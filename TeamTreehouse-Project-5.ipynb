{
 "cells": [
  {
   "cell_type": "code",
   "execution_count": 1,
   "id": "5df10bf8-1a2d-481b-98da-48c06ce38d4b",
   "metadata": {},
   "outputs": [],
   "source": [
    "import pandas as pd\n",
    "import numpy as np"
   ]
  },
  {
   "cell_type": "code",
   "execution_count": 2,
   "id": "b0ce24a8-241a-4dbd-8ccd-9a546c6c1593",
   "metadata": {},
   "outputs": [],
   "source": [
    "intakes = pd.read_csv('aac_intakes.csv')\n",
    "int_out = pd.read_csv('aac_intakes_outcomes.csv')\n",
    "outcomes = pd.read_csv('aac_outcomes.csv')"
   ]
  },
  {
   "cell_type": "markdown",
   "id": "f2330de5-3296-4f66-b646-c5c99e46e0b3",
   "metadata": {},
   "source": [
    "## Is there an area where more pets are found?\n",
    "\n",
    "The found location was used and the value counts function was used to count the total number of pets found per location. This was then sliced to sort and show the top 5 locations.\n",
    "\n",
    "Top 5 Locations:\n",
    "* 1 - Austin (TX) - 14443 animals found\n",
    "* 2 - Outside Jurisdiction - 948 animals Found\n",
    "* 3 - Travis (TX) - 921 animals Found\n",
    "* 4 - 7201 Levander Loop in Austin (TX) - 517 animals found\n",
    "* 5 - Del Valle (TX) - 411 animals found"
   ]
  },
  {
   "cell_type": "code",
   "execution_count": 3,
   "id": "8ed5a6a7-8c4c-4184-ab5d-fb56d793b379",
   "metadata": {},
   "outputs": [
    {
     "name": "stdout",
     "output_type": "stream",
     "text": [
      "The top 5 locations for found pets were:\n",
      "found_location\n",
      "Austin (TX)                          14443\n",
      "Outside Jurisdiction                   948\n",
      "Travis (TX)                            921\n",
      "7201 Levander Loop in Austin (TX)      517\n",
      "Del Valle (TX)                         411\n",
      "Name: count, dtype: int64\n"
     ]
    }
   ],
   "source": [
    "number_per_location = intakes['found_location'].value_counts()\n",
    "\n",
    "print(f'''The top 5 locations for found pets were:\n",
    "{number_per_location[:5]}''')"
   ]
  },
  {
   "cell_type": "markdown",
   "id": "fbc126ab-4f72-4244-9f6f-0a28d2fa94d6",
   "metadata": {},
   "source": [
    "## What is the average number of pets found in a month in the year 2015? Are there months where there is a higher number of animals found?\n",
    "\n",
    "Average number of animals found over the 12 month period in 2015 was 1558, rounded down to the nearest int.\n",
    "\n",
    "The number of pets found per location was used, this was then compared against the intake year of 2015. From here, the number of intakes was counted again and indexed against the month in numbers.\n",
    "\n",
    "The top 3 months with the highest number of animals found were:\n",
    "* 6 - June - 2188 animals found\n",
    "* 5 - May - 2092 animals found\n",
    "* 10 - October - 1738 animals found\n"
   ]
  },
  {
   "cell_type": "code",
   "execution_count": 4,
   "id": "b3f43193-aea6-46ce-b4d1-fbd8b0f28229",
   "metadata": {},
   "outputs": [
    {
     "name": "stdout",
     "output_type": "stream",
     "text": [
      " The breakdown of intakes per month in 2015\n",
      "intake_month\n",
      "1     1199\n",
      "2     1120\n",
      "3     1345\n",
      "4     1539\n",
      "5     2092\n",
      "6     2188\n",
      "7     1634\n",
      "8     1717\n",
      "9     1590\n",
      "10    1738\n",
      "11    1409\n",
      "12    1128\n",
      "Name: count, dtype: int64\n"
     ]
    }
   ],
   "source": [
    "number_per_location = intakes['found_location'].value_counts()\n",
    "intake_2015 = int_out[int_out['intake_year'] == 2015]\n",
    "intake_per_month_2015 = intake_2015['intake_month'].value_counts().sort_index()\n",
    "\n",
    "print(f''' The breakdown of intakes per month in 2015\n",
    "{intake_per_month_2015}''')"
   ]
  },
  {
   "cell_type": "code",
   "execution_count": 5,
   "id": "9e8d0fc0-063b-4e2b-b222-1b38525e6105",
   "metadata": {},
   "outputs": [
    {
     "name": "stdout",
     "output_type": "stream",
     "text": [
      "The average number of pets found each month in 2015 was:\n",
      "1558.25\n"
     ]
    }
   ],
   "source": [
    "average_per_month = len(intake_2015) / len(intake_per_month_2015)\n",
    "\n",
    "print(f'''The average number of pets found each month in 2015 was:\n",
    "{average_per_month}''')"
   ]
  },
  {
   "cell_type": "markdown",
   "id": "562ac691-e57a-49df-8065-2bbb3f79fbf9",
   "metadata": {},
   "source": [
    "## What is the ratio of incoming pets vs. adopted pets?\n",
    "\n",
    "The total intakes was calculated by using then length of all intakes. From here the total adopted pets was calculated by comparing the outcome against the absolute value of \"Adoption\", the length of the outcome was used. To find the total ratio the total intakes were then divded by the total adoption.\n",
    "\n",
    "Total adoption rate was 2.34.\n"
   ]
  },
  {
   "cell_type": "code",
   "execution_count": 6,
   "id": "728f4134-fec1-4233-9d9c-90d50d28582e",
   "metadata": {},
   "outputs": [
    {
     "name": "stdout",
     "output_type": "stream",
     "text": [
      "The total ratio of intake vs adopted pets was 2.3424573498480954\n"
     ]
    }
   ],
   "source": [
    "total_intakes = len(intakes)\n",
    "total_adopted = outcomes[outcomes['outcome_type'] == 'Adoption']\n",
    "total_adoptions = len(total_adopted)\n",
    "\n",
    "total_ratio = (total_intakes / total_adoptions)\n",
    "print(f'The total ratio of intake vs adopted pets was {total_ratio}')"
   ]
  },
  {
   "cell_type": "markdown",
   "id": "0e1636b8-7571-42cb-8582-cdbea748546c",
   "metadata": {},
   "source": [
    "## What is the distribution of the types of animals in the shelter?\n",
    "\n",
    "The total intakes per animal was determined by using the value counts function for \"Animal Type\" and then broken down into total values counted and animal type.\n",
    "\n",
    "Total intakes per animal are:\n",
    "* Dog:          45743\n",
    "* Cat:          29659\n",
    "* Other:         4434\n",
    "* Bird:           342\n",
    "* Livestock:        9"
   ]
  },
  {
   "cell_type": "code",
   "execution_count": 7,
   "id": "5282a32f-f6f1-45b0-9916-e4ae960dfbad",
   "metadata": {},
   "outputs": [],
   "source": [
    "total_intakes = len(intakes)"
   ]
  },
  {
   "cell_type": "code",
   "execution_count": 8,
   "id": "e4bcb57c-dd05-4829-8d5d-ef9f20b4af3b",
   "metadata": {},
   "outputs": [
    {
     "name": "stdout",
     "output_type": "stream",
     "text": [
      "The breakdown per animal in the shelter is:\n",
      "animal_type\n",
      "Dog          45743\n",
      "Cat          29659\n",
      "Other         4434\n",
      "Bird           342\n",
      "Livestock        9\n",
      "Name: count, dtype: int64\n"
     ]
    }
   ],
   "source": [
    "total_intakes_per_animal = intakes['animal_type'].value_counts()\n",
    "print(f'''The breakdown per animal in the shelter is:\n",
    "{total_intakes_per_animal}''')"
   ]
  },
  {
   "cell_type": "markdown",
   "id": "d2b74d06-3d1e-455b-96ea-1004a006a76e",
   "metadata": {},
   "source": [
    "## What are the adoption rates for specific breeds?\n",
    "\n",
    "To determine the adoption rates for specific breeds of dogs, on intake the absolute value of \"Dogs\" was used. From here the total number of breeds was calculated and sorted and sliced to keep the top 5 values. On outcome, the absolute values of \"Dogs\" and \"Adoption\" were used to find all dogs, that had been adopted. The total number of adoptions per breed were then calculated. From here the total ratio per breed was calculated into a percentage, but dividing the adoption breed vs top 5 breed and sorted to the top 5.\n",
    "\n",
    "Adoption rates for top 5 breeds:\n",
    "* Australian Cattle Dog Mix    54.93\n",
    "* Labrador Retriever Mix       48.92\n",
    "* German Shepherd Mix          46.97\n",
    "* Chihuahua Shorthair Mix      46.71\n",
    "* Pit Bull Mix                 36.41"
   ]
  },
  {
   "cell_type": "code",
   "execution_count": 9,
   "id": "3e9e129b-babc-4315-9639-d63f7da8e8f1",
   "metadata": {},
   "outputs": [
    {
     "name": "stdout",
     "output_type": "stream",
     "text": [
      "The adoption rates for the top 5 intake breeds are:\n",
      "breed\n",
      "Australian Cattle Dog Mix    54.93\n",
      "Labrador Retriever Mix       48.92\n",
      "German Shepherd Mix          46.97\n",
      "Chihuahua Shorthair Mix      46.71\n",
      "Pit Bull Mix                 36.41\n",
      "Name: count, dtype: float64\n"
     ]
    }
   ],
   "source": [
    "total_intakes_dogs = intakes[intakes['animal_type'] == 'Dog']\n",
    "breed_counts = total_intakes_dogs['breed'].value_counts()\n",
    "top_5_breeds = breed_counts.sort_values(ascending=False)[:5]\n",
    "total_outcomes_dogs = int_out[(int_out['animal_type'] == 'Dog') & (int_out['outcome_type'] == 'Adoption')]\n",
    "adoption_breed_count = total_outcomes_dogs['breed'].value_counts()\n",
    "total_ratio_per_breed = ((adoption_breed_count / top_5_breeds) * 100).round(2)\n",
    "\n",
    "print(f'''The adoption rates for the top 5 intake breeds are:\n",
    "{total_ratio_per_breed.sort_values(ascending=False)[:5]}''')"
   ]
  },
  {
   "cell_type": "markdown",
   "id": "7c27a489-0c5d-46b6-960f-7c5d1469dc62",
   "metadata": {},
   "source": [
    "## What are the adoption rates for different colorings?\n",
    "\n",
    "The colour was used as the absolute value to calculate the total intake of colours, then sorted and sliced to show only the top 5. The total adopted numbers were compared against an absolute value of \"Adoption\" on the outcome type. A dictonary was created the top 5 colours by itterating over the top 5 colour index to store the adoption rate ratio.\n",
    "\n",
    "Adoption rates for the top 5 colours:\n",
    "Black/White: 45.73%\n",
    "Black: 41.09%\n",
    "Brown Tabby: 42.66%\n",
    "Brown: 22.19%\n",
    "White: 37.98%\n",
    "\n"
   ]
  },
  {
   "cell_type": "code",
   "execution_count": 10,
   "id": "0103c1e7-5733-48e3-9578-066df2185e3a",
   "metadata": {},
   "outputs": [
    {
     "data": {
      "text/plain": [
       "color\n",
       "Black/White    8340\n",
       "Black          6710\n",
       "Brown Tabby    4487\n",
       "Brown          3618\n",
       "White          2849\n",
       "Name: count, dtype: int64"
      ]
     },
     "execution_count": 10,
     "metadata": {},
     "output_type": "execute_result"
    }
   ],
   "source": [
    "intake_color = intakes['color'].value_counts()\n",
    "top_5_color = intake_color.sort_values(ascending=False)[:5]\n",
    "\n",
    "adopted_animals = outcomes[outcomes['outcome_type'] == 'Adoption']\n",
    "adoption_color = {}\n",
    "\n",
    "for color in top_5_color.index:\n",
    "    total_animal_color = intake_color[color]\n",
    "    adopted_animal_color = adopted_animals[adopted_animals['color'] == color].shape[0]\n",
    "    adoption_rate_color = (adopted_animal_color / total_animal_color) * 100\n",
    "    adoption_color[color] = adoption_rate_color\n",
    "\n",
    "\n",
    "top_5_color"
   ]
  },
  {
   "cell_type": "code",
   "execution_count": 11,
   "id": "e0827b94-a184-40aa-8b20-48ae9283f408",
   "metadata": {},
   "outputs": [
    {
     "name": "stdout",
     "output_type": "stream",
     "text": [
      "Adoption rates for the top 5 colours:\n",
      "Black/White: 45.73%\n",
      "Black: 41.09%\n",
      "Brown Tabby: 42.66%\n",
      "Brown: 22.19%\n",
      "White: 37.98%\n"
     ]
    }
   ],
   "source": [
    "print('Adoption rates for the top 5 colours:')\n",
    "for color, adoption_color in adoption_color.items():\n",
    "    print(f'{color}: {adoption_color:.2f}%')"
   ]
  },
  {
   "cell_type": "markdown",
   "id": "563d2a80-6a8e-410d-b287-c1ad02d683c4",
   "metadata": {},
   "source": [
    "## About how many animals are spayed/neutered each month?\n",
    "\n",
    "The sex upon intake was compared against the absolute values of \"Intact Male\" & \"Intact Female\" and stored whether one or the other was true. From here the intake month was determined by using the date time month function to convert the intake datetime into a usable value, this was then sorted and grouped by month. This calculated on the assumption that all intact animals brought into the shelter would be spayed/neutured upon intake.\n",
    "\n",
    "Average number of spays/neuters per month are: 4112\n",
    "\n",
    "The busiest months being May - October."
   ]
  },
  {
   "cell_type": "code",
   "execution_count": 12,
   "id": "4e9119a9-4dc0-4c67-8ec6-ff709294dea2",
   "metadata": {},
   "outputs": [
    {
     "name": "stdout",
     "output_type": "stream",
     "text": [
      "The estimated number of spays/neuters per month are: \n",
      "with the average being: 4112\n",
      "month\n",
      "1     3550\n",
      "2     3233\n",
      "3     3546\n",
      "4     3535\n",
      "5     5214\n",
      "6     5008\n",
      "7     4298\n",
      "8     4132\n",
      "9     4196\n",
      "10    4873\n",
      "11    4107\n",
      "12    3656\n",
      "dtype: int64\n",
      "\n"
     ]
    }
   ],
   "source": [
    "intake_intact = intakes[(intakes['sex_upon_intake'] == 'Intact Male') | (intakes['sex_upon_intake'] == 'Intact Female')].copy()\n",
    "intake_intact['month'] = pd.to_datetime(intake_intact['datetime']).dt.month\n",
    "intact_per_month = intake_intact.groupby('month').size()\n",
    "spayed_neutured_per_month = intact_per_month\n",
    "average = intact_per_month.sum() / 12\n",
    "\n",
    "print(f'''The estimated number of spays/neuters per month are: \n",
    "with the average being: {average:.0f}\n",
    "{spayed_neutured_per_month}\n",
    "''')"
   ]
  },
  {
   "cell_type": "markdown",
   "id": "093fc43d-efe3-4168-9738-cb8994568b2e",
   "metadata": {},
   "source": [
    "## How many animals in the shelter are repeats? Which animal was returned to the shelter the most?\n",
    "\n",
    "The total number of repeats to the shelter was 13976. With the animal ID A721033 a Rat Terrier Mix called 'Lil Bit' was returned the most at 13 times. This was achieved by counting the number of duplicates in the intakes database. From here, the length of repeats was take to show the total number of repeated animals within the shelter. After this the most returned was filtered to show the maximum number of duplicates per animal ID. "
   ]
  },
  {
   "cell_type": "code",
   "execution_count": 13,
   "id": "e68f19ad-f7e4-47a3-84eb-c8a6a328a970",
   "metadata": {},
   "outputs": [
    {
     "data": {
      "text/plain": [
       "13976"
      ]
     },
     "execution_count": 13,
     "metadata": {},
     "output_type": "execute_result"
    }
   ],
   "source": [
    "duplicated_animals = intakes[intakes.duplicated(subset='animal_id',keep=False)]\n",
    "\n",
    "total_repeats = len(duplicated_animals)\n",
    "\n",
    "total_repeats"
   ]
  },
  {
   "cell_type": "code",
   "execution_count": 14,
   "id": "03a93e4c-2662-47f1-8141-79f962bfc0cf",
   "metadata": {},
   "outputs": [
    {
     "data": {
      "text/html": [
       "<div>\n",
       "<style scoped>\n",
       "    .dataframe tbody tr th:only-of-type {\n",
       "        vertical-align: middle;\n",
       "    }\n",
       "\n",
       "    .dataframe tbody tr th {\n",
       "        vertical-align: top;\n",
       "    }\n",
       "\n",
       "    .dataframe thead th {\n",
       "        text-align: right;\n",
       "    }\n",
       "</style>\n",
       "<table border=\"1\" class=\"dataframe\">\n",
       "  <thead>\n",
       "    <tr style=\"text-align: right;\">\n",
       "      <th></th>\n",
       "      <th>age_upon_intake</th>\n",
       "      <th>animal_id</th>\n",
       "      <th>animal_type</th>\n",
       "      <th>breed</th>\n",
       "      <th>color</th>\n",
       "      <th>datetime</th>\n",
       "      <th>datetime2</th>\n",
       "      <th>found_location</th>\n",
       "      <th>intake_condition</th>\n",
       "      <th>intake_type</th>\n",
       "      <th>name</th>\n",
       "      <th>sex_upon_intake</th>\n",
       "    </tr>\n",
       "  </thead>\n",
       "  <tbody>\n",
       "    <tr>\n",
       "      <th>6393</th>\n",
       "      <td>2 years</td>\n",
       "      <td>A721033</td>\n",
       "      <td>Dog</td>\n",
       "      <td>Rat Terrier Mix</td>\n",
       "      <td>Tricolor/Brown Brindle</td>\n",
       "      <td>2018-03-07T08:27:00.000</td>\n",
       "      <td>2018-03-07T08:27:00.000</td>\n",
       "      <td>4111 South 1St in Austin (TX)</td>\n",
       "      <td>Normal</td>\n",
       "      <td>Public Assist</td>\n",
       "      <td>Lil Bit</td>\n",
       "      <td>Neutered Male</td>\n",
       "    </tr>\n",
       "  </tbody>\n",
       "</table>\n",
       "</div>"
      ],
      "text/plain": [
       "     age_upon_intake animal_id animal_type            breed  \\\n",
       "6393         2 years   A721033         Dog  Rat Terrier Mix   \n",
       "\n",
       "                       color                 datetime  \\\n",
       "6393  Tricolor/Brown Brindle  2018-03-07T08:27:00.000   \n",
       "\n",
       "                    datetime2                 found_location intake_condition  \\\n",
       "6393  2018-03-07T08:27:00.000  4111 South 1St in Austin (TX)           Normal   \n",
       "\n",
       "        intake_type     name sex_upon_intake  \n",
       "6393  Public Assist  Lil Bit   Neutered Male  "
      ]
     },
     "execution_count": 14,
     "metadata": {},
     "output_type": "execute_result"
    }
   ],
   "source": [
    "return_counts = duplicated_animals['animal_id'].value_counts()\n",
    "most_returned = return_counts[return_counts == return_counts.max()].index\n",
    "most_returned_count = return_counts.max()\n",
    "\n",
    "most_returned_animal = intakes[intakes['animal_id'].isin(most_returned)][:1]\n",
    "\n",
    "most_returned_animal"
   ]
  },
  {
   "cell_type": "code",
   "execution_count": 15,
   "id": "7d653403-58df-4b16-a560-1e6b0678efcc",
   "metadata": {},
   "outputs": [
    {
     "data": {
      "text/plain": [
       "13"
      ]
     },
     "execution_count": 15,
     "metadata": {},
     "output_type": "execute_result"
    }
   ],
   "source": [
    "most_returned_count\n"
   ]
  },
  {
   "cell_type": "markdown",
   "id": "f0b3482e-4d90-4444-a77c-1ef2e064dbfe",
   "metadata": {},
   "source": [
    "## What are the adoption rates for the following age groups?\n",
    "\n",
    "The ages within the outcomes database were converted into months too allow for easier extraction. The ages were then placed into buckets depending on the number of months within the specified table. From here the outcome of Adoption was filtered out and the number of values counted per age group. This was then compared against the values counted for all outcome types per age bucket to determine their rates of adoption.\n",
    "\n",
    "* baby: 4 months and less: 41.941527\n",
    "* young: 5 months - 2 years: 53.619247\n",
    "* adult: 3 years - 10 years: 33.673191\n",
    "* senior: 11+: 21.234454"
   ]
  },
  {
   "cell_type": "code",
   "execution_count": 16,
   "id": "7946e046-3316-4db1-9a75-d27471d64ab4",
   "metadata": {},
   "outputs": [
    {
     "name": "stdout",
     "output_type": "stream",
     "text": [
      "The adoption rates per age_groups\n",
      "young      41.941527\n",
      "baby       53.619247\n",
      "adult      33.673191\n",
      "senior     21.234454\n",
      "unknown     0.384986\n",
      "Name: count, dtype: float64:\n"
     ]
    }
   ],
   "source": [
    "def convert_age_to_months(age_str):\n",
    "    if isinstance(age_str, str):\n",
    "        parts = age_str.split()\n",
    "        age = int(parts[0])\n",
    "        unit = parts[1].lower()\n",
    "        \n",
    "        # Convert to months\n",
    "        if 'year' in unit:\n",
    "            age_in_months = age * 12\n",
    "        elif 'week' in unit:\n",
    "            age_in_months = age / 4\n",
    "        elif 'month' in unit:\n",
    "            age_in_months = age\n",
    "        else:\n",
    "            return 'unknown'\n",
    "        # Classify age group\n",
    "        if age_in_months <= 4:\n",
    "            return 'baby'\n",
    "        elif 5 <= age_in_months <= 24:\n",
    "            return 'young'\n",
    "        elif 25 <= age_in_months <= 120:\n",
    "            return 'adult'\n",
    "        else:\n",
    "            return 'senior'\n",
    "    else:\n",
    "        return 'unknown'\n",
    "\n",
    "outcomes['age_groups'] = outcomes['age_upon_outcome'].apply(convert_age_to_months)\n",
    "adoptions = outcomes[outcomes['outcome_type'] == 'Adoption']\n",
    "number_of_adoptions = adoptions['age_groups'].value_counts()\n",
    "total_outcomes = outcomes['age_groups'].value_counts()\n",
    "adoption_rates = (number_of_adoptions / total_outcomes) * 100\n",
    "print(f'''The adoption rates per {adoption_rates}:''')"
   ]
  },
  {
   "cell_type": "markdown",
   "id": "27c82be7-43d6-4033-b907-828e223b972d",
   "metadata": {},
   "source": [
    "## If spay/neuter for a dog costs \\\\$100 and a spay/neuter for a cat costs \\\\$50, how much did the shelter spend in 2015 on these procedures?\n",
    "\n",
    "The total number of intact intakes for cats and dogs were extracted by comparing the animal type and sex upon intake, with a copy of the df. From here the year of intake was converted into a datetime year, that could be extracted and compared. This year was compared to 2015 and the total was multipled by the procedure cost to provide the total cost of procedures for both cats and dogs.\n",
    "\n",
    "The total cost for procedures in 2015 was $1405750.\n"
   ]
  },
  {
   "cell_type": "code",
   "execution_count": 17,
   "id": "229c4db0-2c50-4caa-b522-26061eb63b06",
   "metadata": {},
   "outputs": [
    {
     "name": "stdout",
     "output_type": "stream",
     "text": [
      "The total cost for procedures in 2015 was $1405750\n"
     ]
    }
   ],
   "source": [
    "dog_procedure_cost = 100\n",
    "cat_procedure_cost = 50\n",
    "dogs_spayed_neutered = len(intake_2015[intake_2015['animal_type'] == 'Dog'])\n",
    "cats_spayed_neutered = len(intake_2015[intake_2015['animal_type'] == 'Cat'])\n",
    "\n",
    "total_cost = (dog_procedure_cost * dogs_spayed_neutered) + (cat_procedure_cost * cats_spayed_neutered)\n",
    "\n",
    "print(f'''The total cost for procedures in 2015 was ${total_cost}''')"
   ]
  }
 ],
 "metadata": {
  "kernelspec": {
   "display_name": "Python 3 (ipykernel)",
   "language": "python",
   "name": "python3"
  },
  "language_info": {
   "codemirror_mode": {
    "name": "ipython",
    "version": 3
   },
   "file_extension": ".py",
   "mimetype": "text/x-python",
   "name": "python",
   "nbconvert_exporter": "python",
   "pygments_lexer": "ipython3",
   "version": "3.12.4"
  }
 },
 "nbformat": 4,
 "nbformat_minor": 5
}
